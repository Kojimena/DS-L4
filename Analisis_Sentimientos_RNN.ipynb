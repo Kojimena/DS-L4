{
 "cells": [
  {
   "cell_type": "markdown",
   "metadata": {},
   "source": [
    "# Laboratorio 4\n",
    "\n",
    "- Mark Albrand 21004\n",
    "- Jimena Hernández 21199\n",
    "\n",
    "## Mejorando el Análisis de Sentimientos con LSTM y Características Adicionales"
   ]
  },
  {
   "cell_type": "code",
   "execution_count": 71,
   "metadata": {
    "id": "-5GymP2ePbBc"
   },
   "outputs": [],
   "source": [
    "import numpy as np\n",
    "import tensorflow as tf\n",
    "from tensorflow.keras.preprocessing import sequence\n",
    "from tensorflow.keras.models import Sequential\n",
    "from tensorflow.keras.layers import Dense, Embedding, Dropout\n",
    "from tensorflow.keras.layers import LSTM\n",
    "from tensorflow.keras.datasets import imdb\n",
    "from tensorflow.keras.regularizers import l2"
   ]
  },
  {
   "cell_type": "markdown",
   "metadata": {},
   "source": [
    "### Importación"
   ]
  },
  {
   "cell_type": "code",
   "execution_count": 72,
   "metadata": {},
   "outputs": [],
   "source": [
    "max_features = 50000"
   ]
  },
  {
   "cell_type": "code",
   "execution_count": 73,
   "metadata": {
    "colab": {
     "base_uri": "https://localhost:8080/"
    },
    "id": "ThMIo9DYPbBd",
    "outputId": "0dbe0c33-c2b7-427c-e4ac-fc97e80cee85"
   },
   "outputs": [],
   "source": [
    "(X_train, y_train), (X_test, y_test) = imdb.load_data(num_words=max_features)\n",
    "\n",
    "# dividir test entre test y validacion (60% test, 40% validacion)\n",
    "sixty = int(len(X_test) * 0.6)\n",
    "X_val = X_test[sixty:]\n",
    "y_val = y_test[sixty:]\n",
    "X_test = X_test[:sixty]\n",
    "y_test = y_test[:sixty]"
   ]
  },
  {
   "cell_type": "code",
   "execution_count": 74,
   "metadata": {
    "tags": []
   },
   "outputs": [
    {
     "name": "stdout",
     "output_type": "stream",
     "text": [
      "25000 train sequences\n",
      "15000 test sequences\n",
      "10000 validation sequences\n"
     ]
    }
   ],
   "source": [
    "print(len(X_train), 'train sequences')\n",
    "print(len(X_test), 'test sequences')\n",
    "print(len(X_val), 'validation sequences')"
   ]
  },
  {
   "cell_type": "code",
   "execution_count": 75,
   "metadata": {
    "colab": {
     "base_uri": "https://localhost:8080/"
    },
    "id": "xPsneaWNPbBe",
    "outputId": "cc84e444-4b55-4a9f-f3db-068d91ec85c8"
   },
   "outputs": [
    {
     "data": {
      "text/plain": [
       "[1,\n",
       " 14,\n",
       " 22,\n",
       " 16,\n",
       " 43,\n",
       " 530,\n",
       " 973,\n",
       " 1622,\n",
       " 1385,\n",
       " 65,\n",
       " 458,\n",
       " 4468,\n",
       " 66,\n",
       " 3941,\n",
       " 4,\n",
       " 173,\n",
       " 36,\n",
       " 256,\n",
       " 5,\n",
       " 25,\n",
       " 100,\n",
       " 43,\n",
       " 838,\n",
       " 112,\n",
       " 50,\n",
       " 670,\n",
       " 22665,\n",
       " 9,\n",
       " 35,\n",
       " 480,\n",
       " 284,\n",
       " 5,\n",
       " 150,\n",
       " 4,\n",
       " 172,\n",
       " 112,\n",
       " 167,\n",
       " 21631,\n",
       " 336,\n",
       " 385,\n",
       " 39,\n",
       " 4,\n",
       " 172,\n",
       " 4536,\n",
       " 1111,\n",
       " 17,\n",
       " 546,\n",
       " 38,\n",
       " 13,\n",
       " 447,\n",
       " 4,\n",
       " 192,\n",
       " 50,\n",
       " 16,\n",
       " 6,\n",
       " 147,\n",
       " 2025,\n",
       " 19,\n",
       " 14,\n",
       " 22,\n",
       " 4,\n",
       " 1920,\n",
       " 4613,\n",
       " 469,\n",
       " 4,\n",
       " 22,\n",
       " 71,\n",
       " 87,\n",
       " 12,\n",
       " 16,\n",
       " 43,\n",
       " 530,\n",
       " 38,\n",
       " 76,\n",
       " 15,\n",
       " 13,\n",
       " 1247,\n",
       " 4,\n",
       " 22,\n",
       " 17,\n",
       " 515,\n",
       " 17,\n",
       " 12,\n",
       " 16,\n",
       " 626,\n",
       " 18,\n",
       " 19193,\n",
       " 5,\n",
       " 62,\n",
       " 386,\n",
       " 12,\n",
       " 8,\n",
       " 316,\n",
       " 8,\n",
       " 106,\n",
       " 5,\n",
       " 4,\n",
       " 2223,\n",
       " 5244,\n",
       " 16,\n",
       " 480,\n",
       " 66,\n",
       " 3785,\n",
       " 33,\n",
       " 4,\n",
       " 130,\n",
       " 12,\n",
       " 16,\n",
       " 38,\n",
       " 619,\n",
       " 5,\n",
       " 25,\n",
       " 124,\n",
       " 51,\n",
       " 36,\n",
       " 135,\n",
       " 48,\n",
       " 25,\n",
       " 1415,\n",
       " 33,\n",
       " 6,\n",
       " 22,\n",
       " 12,\n",
       " 215,\n",
       " 28,\n",
       " 77,\n",
       " 52,\n",
       " 5,\n",
       " 14,\n",
       " 407,\n",
       " 16,\n",
       " 82,\n",
       " 10311,\n",
       " 8,\n",
       " 4,\n",
       " 107,\n",
       " 117,\n",
       " 5952,\n",
       " 15,\n",
       " 256,\n",
       " 4,\n",
       " 31050,\n",
       " 7,\n",
       " 3766,\n",
       " 5,\n",
       " 723,\n",
       " 36,\n",
       " 71,\n",
       " 43,\n",
       " 530,\n",
       " 476,\n",
       " 26,\n",
       " 400,\n",
       " 317,\n",
       " 46,\n",
       " 7,\n",
       " 4,\n",
       " 12118,\n",
       " 1029,\n",
       " 13,\n",
       " 104,\n",
       " 88,\n",
       " 4,\n",
       " 381,\n",
       " 15,\n",
       " 297,\n",
       " 98,\n",
       " 32,\n",
       " 2071,\n",
       " 56,\n",
       " 26,\n",
       " 141,\n",
       " 6,\n",
       " 194,\n",
       " 7486,\n",
       " 18,\n",
       " 4,\n",
       " 226,\n",
       " 22,\n",
       " 21,\n",
       " 134,\n",
       " 476,\n",
       " 26,\n",
       " 480,\n",
       " 5,\n",
       " 144,\n",
       " 30,\n",
       " 5535,\n",
       " 18,\n",
       " 51,\n",
       " 36,\n",
       " 28,\n",
       " 224,\n",
       " 92,\n",
       " 25,\n",
       " 104,\n",
       " 4,\n",
       " 226,\n",
       " 65,\n",
       " 16,\n",
       " 38,\n",
       " 1334,\n",
       " 88,\n",
       " 12,\n",
       " 16,\n",
       " 283,\n",
       " 5,\n",
       " 16,\n",
       " 4472,\n",
       " 113,\n",
       " 103,\n",
       " 32,\n",
       " 15,\n",
       " 16,\n",
       " 5345,\n",
       " 19,\n",
       " 178,\n",
       " 32]"
      ]
     },
     "execution_count": 75,
     "metadata": {},
     "output_type": "execute_result"
    }
   ],
   "source": [
    "X_train[0]"
   ]
  },
  {
   "cell_type": "markdown",
   "metadata": {},
   "source": [
    "### Preprocesamiento"
   ]
  },
  {
   "cell_type": "code",
   "execution_count": 76,
   "metadata": {},
   "outputs": [],
   "source": [
    "word_index = imdb.get_word_index()\n",
    "word_index_inv = {v: k for k, v in word_index.items()}"
   ]
  },
  {
   "cell_type": "code",
   "execution_count": 77,
   "metadata": {},
   "outputs": [
    {
     "name": "stdout",
     "output_type": "stream",
     "text": [
      "? french horror cinema has seen something of a revival over the last couple of years with great films such as inside and switchblade romance bursting on to the scene maléfique preceded the revival just slightly but stands head and shoulders over most modern horror titles and is surely one of the best french horror films ever made maléfique was obviously shot on a low budget but this is made up for in far more ways than one by the originality of the film and this in turn is complimented by the excellent writing and acting that ensure the film is a winner the plot focuses on two main ideas prison and black magic the central character is a man named carrère sent to prison for fraud he is put in a cell with three others the quietly insane lassalle body building transvestite marcus and his retarded boyfriend daisy after a short while in the cell together they stumble upon a hiding place in the wall that contains an old journal after translating part of it they soon realise its magical powers and realise they may be able to use it to break through the prison walls br br black magic is a very interesting topic and i'm actually quite surprised that there aren't more films based on it as there's so much scope for things to do with it it's fair to say that maléfique makes the best of it's assets as despite it's restraints the film never actually feels restrained and manages to flow well throughout director eric valette provides a great atmosphere for the film the fact that most of it takes place inside the central prison cell ensures that the film feels very claustrophobic and this immensely benefits the central idea of the prisoners wanting to use magic to break out of the cell it's very easy to get behind them it's often said that the unknown is the thing that really frightens people and this film proves that as the director ensures that we can never really be sure of exactly what is round the corner and this helps to ensure that maléfique actually does manage to be quite frightening the film is memorable for a lot of reasons outside the central plot the characters are all very interesting in their own way and the fact that the book itself almost takes on its own character is very well done anyone worried that the film won't deliver by the end won't be disappointed either as the ending both makes sense and manages to be quite horrifying overall maléfique is a truly great horror film and one of the best of the decade highly recommended viewing "
     ]
    }
   ],
   "source": [
    "for w in X_train[10]:\n",
    "    print(word_index_inv.get(w - 3, '?'), end=' ')"
   ]
  },
  {
   "cell_type": "code",
   "execution_count": 94,
   "metadata": {},
   "outputs": [],
   "source": [
    "for w in word_index_inv:\n",
    "    print(word_index_inv[w])"
   ]
  },
  {
   "cell_type": "markdown",
   "metadata": {},
   "source": [
    "#### Longitud uniforme\n"
   ]
  },
  {
   "cell_type": "code",
   "execution_count": 79,
   "metadata": {},
   "outputs": [],
   "source": [
    "maxlen = 80"
   ]
  },
  {
   "cell_type": "code",
   "execution_count": 80,
   "metadata": {
    "id": "td7nNbGcPbBf"
   },
   "outputs": [],
   "source": [
    "X_train = sequence.pad_sequences(X_train, maxlen = maxlen)\n",
    "X_test = sequence.pad_sequences(X_test, maxlen = maxlen)\n",
    "X_val = sequence.pad_sequences(X_val, maxlen = maxlen)"
   ]
  },
  {
   "cell_type": "code",
   "execution_count": 81,
   "metadata": {},
   "outputs": [
    {
     "name": "stdout",
     "output_type": "stream",
     "text": [
      "X_train shape: (25000, 80)\n",
      "X_test shape: (15000, 80)\n",
      "Y_train shape: (25000,)\n",
      "Y_test shape: (15000,)\n"
     ]
    }
   ],
   "source": [
    "print(f\"X_train shape: {X_train.shape}\\nX_test shape: {X_test.shape}\\nY_train shape: {y_train.shape}\\nY_test shape: {y_test.shape}\")"
   ]
  },
  {
   "cell_type": "markdown",
   "metadata": {},
   "source": [
    "#### Extracción de características adicionales"
   ]
  },
  {
   "cell_type": "code",
   "execution_count": 82,
   "metadata": {},
   "outputs": [],
   "source": [
    "# Se seleccionan algunas palabras positivas y negativas vistas en las reseñas\n",
    "positive_words = [\n",
    "    \"brilliant\", \"amazing\", \"loved\", \"great\", \"recommended\", \"beautiful\", \"solid\", \"excellent\", \"love\", \"recommend\", \"memorable\", \"healing\"\n",
    "    \"charm\", \"good\", \"unique\", \"special\", \"fun\", \"touching\", \"engaging\", \"human\", \"enjoyed\", \"wonderful\", \"lovely\", \"nice\", \"entertainment\"\n",
    "]\n",
    "\n",
    "negative_words = [\n",
    "    \"bad\", \"worst\", \"terrible\", \"abomination\", \"ridiculous\", \"sickening\", \"trash\", \"hate\", \"horrible\", \"disgusting\", \"lame\",\n",
    "    \"crap\", \"boring\", \"forgettable\", \"dull\", \"poor\", \"awful\", \"feeble\", \"disaster\", \"claustrophobic\", \"frightening\", \"dissapoint\"\n",
    "]\n",
    "\n",
    "\n",
    "# Convertir las listas de palabras a índices\n",
    "positive_indices = [word_index[word] for word in positive_words if word in word_index and word_index[word] < max_features]\n",
    "negative_indices = [word_index[word] for word in negative_words if word in word_index and word_index[word] < max_features]\n",
    "\n",
    "#Función para extraer características de las secuencias\n",
    "def extract_features(sequences):\n",
    "    features = []\n",
    "    for seq in sequences:\n",
    "        length = len(seq)  # Longitud de la secuencia\n",
    "        pos_count = sum(1 for word in seq if word in positive_indices)  # Cantidad de palabras positivas\n",
    "        neg_count = sum(1 for word in seq if word in negative_indices)  # Cantidad de palabras negativas\n",
    "        \n",
    "        pos_ratio = pos_count / length if length > 0 else 0  # Proporción de palabras positivas\n",
    "        neg_ratio = neg_count / length if length > 0 else 0  # Proporción de palabras negativas\n",
    "        \n",
    "        features.append([length, pos_ratio, neg_ratio])  # Se agregan las características a la lista\n",
    "    return np.array(features)\n",
    "\n",
    "train_features = extract_features(X_train)  # Se extraen las características de las secuencias de entrenamiento\n",
    "test_features = extract_features(X_test)  # Se extraen las características de las secuencias de prueba\n",
    "val_features = extract_features(X_val)  # Se extraen las características de las secuencias de validación"
   ]
  },
  {
   "cell_type": "code",
   "execution_count": 83,
   "metadata": {},
   "outputs": [],
   "source": [
    "# Unir las características extraídas con las secuencias\n",
    "X_train = np.concatenate([X_train, train_features], axis=1)\n",
    "X_test = np.concatenate([X_test, test_features], axis=1)\n",
    "X_val = np.concatenate([X_val, val_features], axis=1)"
   ]
  },
  {
   "cell_type": "markdown",
   "metadata": {
    "id": "FUFGeOFOPbBf"
   },
   "source": [
    "### Modelo"
   ]
  },
  {
   "cell_type": "code",
   "execution_count": 84,
   "metadata": {
    "id": "TrgEmhr2PbBf"
   },
   "outputs": [],
   "source": [
    "modelo = Sequential()\n",
    "\n",
    "modelo.add(Embedding(max_features, 128))\n",
    "\n",
    "modelo.add(LSTM(128, dropout=0.5, recurrent_dropout=0.5, kernel_regularizer=l2(0.01)))\n",
    "modelo.add(Dense(256, activation='relu'))\n",
    "modelo.add(Dropout(0.5))\n",
    "\n",
    "modelo.add(Dense(1, activation='sigmoid'))"
   ]
  },
  {
   "cell_type": "markdown",
   "metadata": {
    "id": "L1bd9f8FPbBg"
   },
   "source": [
    "Ya que este es un problema de clasificación binaria, la mejor función de pérdida es la \"binary_crossentropy\".  También se utiliza el optimizador \"Adam\" que es uno de los mejores.  Siempre es de recordar que si es necesario afinar más el modelo, se pueden probar otras."
   ]
  },
  {
   "cell_type": "code",
   "execution_count": 85,
   "metadata": {
    "id": "RGjVEFQxPbBg"
   },
   "outputs": [],
   "source": [
    "modelo.compile(\n",
    "    loss='binary_crossentropy',\n",
    "    optimizer='adam',\n",
    "    metrics=['accuracy']\n",
    ")"
   ]
  },
  {
   "cell_type": "markdown",
   "metadata": {
    "id": "ZdqGjhaiPbBh"
   },
   "source": [
    "Ahora sí, a iniciar el entrenamiento.  Aún con una GPU se tardará bastante tiempo!"
   ]
  },
  {
   "cell_type": "code",
   "execution_count": 86,
   "metadata": {
    "colab": {
     "base_uri": "https://localhost:8080/"
    },
    "id": "CIqVu_VEPbBh",
    "outputId": "31808fcc-3698-4863-e3dc-c4ddfb080be6"
   },
   "outputs": [
    {
     "name": "stdout",
     "output_type": "stream",
     "text": [
      "Epoch 1/10\n",
      "\u001b[1m782/782\u001b[0m \u001b[32m━━━━━━━━━━━━━━━━━━━━\u001b[0m\u001b[37m\u001b[0m \u001b[1m42s\u001b[0m 52ms/step - accuracy: 0.5679 - loss: 0.9637 - val_accuracy: 0.7598 - val_loss: 0.5433\n",
      "Epoch 2/10\n",
      "\u001b[1m782/782\u001b[0m \u001b[32m━━━━━━━━━━━━━━━━━━━━\u001b[0m\u001b[37m\u001b[0m \u001b[1m44s\u001b[0m 56ms/step - accuracy: 0.8031 - loss: 0.4936 - val_accuracy: 0.8146 - val_loss: 0.4503\n",
      "Epoch 3/10\n",
      "\u001b[1m782/782\u001b[0m \u001b[32m━━━━━━━━━━━━━━━━━━━━\u001b[0m\u001b[37m\u001b[0m \u001b[1m40s\u001b[0m 51ms/step - accuracy: 0.8532 - loss: 0.3937 - val_accuracy: 0.8181 - val_loss: 0.4529\n",
      "Epoch 4/10\n",
      "\u001b[1m782/782\u001b[0m \u001b[32m━━━━━━━━━━━━━━━━━━━━\u001b[0m\u001b[37m\u001b[0m \u001b[1m38s\u001b[0m 48ms/step - accuracy: 0.8840 - loss: 0.3373 - val_accuracy: 0.8329 - val_loss: 0.4381\n",
      "Epoch 5/10\n",
      "\u001b[1m782/782\u001b[0m \u001b[32m━━━━━━━━━━━━━━━━━━━━\u001b[0m\u001b[37m\u001b[0m \u001b[1m35s\u001b[0m 45ms/step - accuracy: 0.8992 - loss: 0.3003 - val_accuracy: 0.8104 - val_loss: 0.4771\n",
      "Epoch 6/10\n",
      "\u001b[1m782/782\u001b[0m \u001b[32m━━━━━━━━━━━━━━━━━━━━\u001b[0m\u001b[37m\u001b[0m \u001b[1m37s\u001b[0m 47ms/step - accuracy: 0.9188 - loss: 0.2604 - val_accuracy: 0.7787 - val_loss: 0.5357\n",
      "Epoch 7/10\n",
      "\u001b[1m782/782\u001b[0m \u001b[32m━━━━━━━━━━━━━━━━━━━━\u001b[0m\u001b[37m\u001b[0m \u001b[1m36s\u001b[0m 45ms/step - accuracy: 0.9322 - loss: 0.2127 - val_accuracy: 0.7847 - val_loss: 0.5152\n",
      "Epoch 8/10\n",
      "\u001b[1m782/782\u001b[0m \u001b[32m━━━━━━━━━━━━━━━━━━━━\u001b[0m\u001b[37m\u001b[0m \u001b[1m36s\u001b[0m 46ms/step - accuracy: 0.9414 - loss: 0.1920 - val_accuracy: 0.7688 - val_loss: 0.5727\n",
      "Epoch 9/10\n",
      "\u001b[1m782/782\u001b[0m \u001b[32m━━━━━━━━━━━━━━━━━━━━\u001b[0m\u001b[37m\u001b[0m \u001b[1m44s\u001b[0m 56ms/step - accuracy: 0.9517 - loss: 0.1660 - val_accuracy: 0.7751 - val_loss: 0.5761\n",
      "Epoch 10/10\n",
      "\u001b[1m782/782\u001b[0m \u001b[32m━━━━━━━━━━━━━━━━━━━━\u001b[0m\u001b[37m\u001b[0m \u001b[1m43s\u001b[0m 56ms/step - accuracy: 0.9610 - loss: 0.1423 - val_accuracy: 0.7683 - val_loss: 0.5877\n"
     ]
    }
   ],
   "source": [
    "history = modelo.fit(\n",
    "    X_train, y_train,\n",
    "    batch_size = 32,\n",
    "    epochs = 10,\n",
    "    validation_data = (X_val, y_val)\n",
    ")"
   ]
  },
  {
   "cell_type": "code",
   "execution_count": 87,
   "metadata": {
    "id": "8ip7E_-UPbBi"
   },
   "outputs": [],
   "source": [
    "#modelo.save(\"Anal_Sentimiento.h5\")"
   ]
  },
  {
   "cell_type": "code",
   "execution_count": 88,
   "metadata": {},
   "outputs": [
    {
     "data": {
      "image/png": "[encoded data removed]",
      "text/plain": [
       "<Figure size 640x480 with 1 Axes>"
      ]
     },
     "metadata": {},
     "output_type": "display_data"
    }
   ],
   "source": [
    "# Graficar loss y val_loss\n",
    "import matplotlib.pyplot as plt\n",
    "\n",
    "plt.plot(history.history['loss'])\n",
    "plt.plot(history.history['val_loss'])\n",
    "plt.title('Model loss')\n",
    "plt.ylabel('Loss')\n",
    "plt.xlabel('Epoch')\n",
    "plt.legend(['Train', 'Test'], loc='upper left')\n",
    "plt.show()"
   ]
  },
  {
   "cell_type": "code",
   "execution_count": 89,
   "metadata": {},
   "outputs": [
    {
     "data": {
      "image/png": "[encoded data removed]",
      "text/plain": [
       "<Figure size 640x480 with 1 Axes>"
      ]
     },
     "metadata": {},
     "output_type": "display_data"
    }
   ],
   "source": [
    "# Graficar accuracy y val_accuracy\n",
    "plt.plot(history.history['accuracy'])\n",
    "plt.plot(history.history['val_accuracy'])\n",
    "plt.title('Model accuracy')\n",
    "plt.ylabel('Accuracy')\n",
    "plt.xlabel('Epoch')\n",
    "plt.legend(['Train', 'Test'], loc='upper left')\n",
    "plt.show()"
   ]
  },
  {
   "cell_type": "code",
   "execution_count": 90,
   "metadata": {
    "id": "mBG9S2-JPbBi"
   },
   "outputs": [],
   "source": [
    "# from tensorflow.keras.models import load_model\n",
    "# modelo = load_model(\"Anal_Sentimiento.h5\")"
   ]
  },
  {
   "cell_type": "markdown",
   "metadata": {},
   "source": [
    "OK, ahora a evaluar la exactitud del modelo:"
   ]
  },
  {
   "cell_type": "code",
   "execution_count": 91,
   "metadata": {
    "colab": {
     "base_uri": "https://localhost:8080/"
    },
    "id": "OLehygHpPbBi",
    "outputId": "22f98634-7fa3-4c1c-f709-9247286572dd"
   },
   "outputs": [
    {
     "name": "stdout",
     "output_type": "stream",
     "text": [
      "469/469 - 5s - 12ms/step - accuracy: 0.7616 - loss: 0.6176\n",
      "Pérdida de la Prueba: 0.6176226735115051\n",
      "Exactitud de la Prueba (Test accuracy): 0.7616000175476074\n"
     ]
    }
   ],
   "source": [
    "perdida, exactitud = modelo.evaluate(\n",
    "    X_test, y_test,\n",
    "    batch_size = 32,\n",
    "    verbose = 2\n",
    ")\n",
    "\n",
    "print('Pérdida de la Prueba:', perdida)\n",
    "print('Exactitud de la Prueba (Test accuracy):', exactitud)"
   ]
  },
  {
   "cell_type": "code",
   "execution_count": 92,
   "metadata": {
    "colab": {
     "base_uri": "https://localhost:8080/"
    },
    "id": "P8vKFX_NPbBi",
    "outputId": "aa31d3ba-3867-4e5c-e1d6-431931d38d37"
   },
   "outputs": [],
   "source": [
    "# # Use the default parameters to keras.datasets.imdb.load_data\n",
    "# start_char = 1\n",
    "# oov_char = 2\n",
    "# index_from = 3\n",
    "# # Retrieve the training sequences.\n",
    "# (X_train, _), _ = tf.keras.datasets.imdb.load_data(\n",
    "#     start_char=start_char, oov_char=oov_char, index_from=index_from\n",
    "# )\n",
    "# # Retrieve the word index file mapping words to indices\n",
    "# word_index = tf.keras.datasets.imdb.get_word_index()\n",
    "# # Reverse the word index to obtain a dict mapping indices to words\n",
    "# # And add `index_from` to indices to sync with `x_train`\n",
    "# inverted_word_index = dict(\n",
    "#     (i + index_from, word) for (word, i) in word_index.items()\n",
    "# )\n",
    "# # Update `inverted_word_index` to include `start_char` and `oov_char`\n",
    "# inverted_word_index[start_char] = \"[START]\"\n",
    "# inverted_word_index[oov_char] = \"[OOV]\"\n",
    "# # Decode the first sequence in the dataset\n",
    "# decoded_sequence = \" \".join(inverted_word_index[i] for i in X_train[0])"
   ]
  },
  {
   "cell_type": "code",
   "execution_count": 93,
   "metadata": {
    "colab": {
     "base_uri": "https://localhost:8080/",
     "height": 196
    },
    "id": "2M7XZKKTgkDs",
    "outputId": "2f1ab304-da22-40c2-e731-942fdd0cb905"
   },
   "outputs": [],
   "source": [
    "# decoded_sequence"
   ]
  },
  {
   "cell_type": "code",
   "execution_count": null,
   "metadata": {
    "id": "1PXwh2Tbgos7"
   },
   "outputs": [],
   "source": []
  }
 ],
 "metadata": {
  "colab": {
   "collapsed_sections": [],
   "provenance": []
  },
  "kernelspec": {
   "display_name": "Python 3 (ipykernel)",
   "language": "python",
   "name": "python3"
  },
  "language_info": {
   "codemirror_mode": {
    "name": "ipython",
    "version": 3
   },
   "file_extension": ".py",
   "mimetype": "text/x-python",
   "name": "python",
   "nbconvert_exporter": "python",
   "pygments_lexer": "ipython3",
   "version": "3.11.7"
  }
 },
 "nbformat": 4,
 "nbformat_minor": 4
}
